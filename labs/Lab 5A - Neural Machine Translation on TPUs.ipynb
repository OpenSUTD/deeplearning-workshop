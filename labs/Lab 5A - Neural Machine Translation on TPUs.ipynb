{
  "nbformat": 4,
  "nbformat_minor": 0,
  "metadata": {
    "colab": {
      "name": "Lab 5A - Neural Machine Translation on TPUs",
      "provenance": [],
      "collapsed_sections": []
    },
    "kernelspec": {
      "name": "python3",
      "display_name": "Python 3"
    },
    "accelerator": "TPU"
  },
  "cells": [
    {
      "cell_type": "markdown",
      "metadata": {
        "id": "oOEk20_fG3B9",
        "colab_type": "text"
      },
      "source": [
        "# TensorFlow Neural Machine Translation on Cloud TPUs\n",
        "\n",
        "This tutorial demonstrates how to translate text using a LSTM Network from one language to another (from English to German in this case). We will work with a dataset that contains pairs of English-German phrases. Given a sequence of words in English, we train a model to predict the German equivalent in the sequence.\n",
        "\n",
        "Note: Enable TPU acceleration to execute this notebook faster. In Colab: Runtime > Change runtime type > Hardware acclerator > **TPU**. \n",
        "<br>\n",
        "If running locally make sure TensorFlow version >= 1.11.\n",
        "\n",
        "This tutorial includes runnable code implemented using [tf.keras](https://www.tensorflow.org/programmers_guide/keras).\n",
        "\n",
        "By Rishabh Anand (GitHub: @rish-16)"
      ]
    },
    {
      "cell_type": "code",
      "metadata": {
        "id": "7njQiFR4GvVu",
        "colab_type": "code",
        "outputId": "80681ed3-438e-4905-9495-a2af48ab8866",
        "colab": {
          "base_uri": "https://localhost:8080/",
          "height": 272
        }
      },
      "source": [
        "!ls\n",
        "!wget http://www.manythings.org/anki/deu-eng.zip\n",
        "!unzip deu-eng.zip"
      ],
      "execution_count": 3,
      "outputs": [
        {
          "output_type": "stream",
          "text": [
            "sample_data\n",
            "--2019-10-12 05:09:34--  http://www.manythings.org/anki/deu-eng.zip\n",
            "Resolving www.manythings.org (www.manythings.org)... 104.24.108.196, 104.24.109.196, 2606:4700:30::6818:6dc4, ...\n",
            "Connecting to www.manythings.org (www.manythings.org)|104.24.108.196|:80... connected.\n",
            "HTTP request sent, awaiting response... 200 OK\n",
            "Length: 4541707 (4.3M) [application/zip]\n",
            "Saving to: ‘deu-eng.zip’\n",
            "\n",
            "deu-eng.zip         100%[===================>]   4.33M  17.3MB/s    in 0.2s    \n",
            "\n",
            "2019-10-12 05:09:39 (17.3 MB/s) - ‘deu-eng.zip’ saved [4541707/4541707]\n",
            "\n",
            "Archive:  deu-eng.zip\n",
            "  inflating: deu.txt                 \n",
            "  inflating: _about.txt              \n"
          ],
          "name": "stdout"
        }
      ]
    },
    {
      "cell_type": "code",
      "metadata": {
        "id": "VDKbicZCG1u4",
        "colab_type": "code",
        "outputId": "e82572af-81c8-44de-b168-dcfefabe86e4",
        "colab": {
          "base_uri": "https://localhost:8080/",
          "height": 187
        }
      },
      "source": [
        "!head deu.txt"
      ],
      "execution_count": 4,
      "outputs": [
        {
          "output_type": "stream",
          "text": [
            "Hi.\tHallo!\n",
            "Hi.\tGrüß Gott!\n",
            "Run!\tLauf!\n",
            "Wow!\tPotzdonner!\n",
            "Wow!\tDonnerwetter!\n",
            "Fire!\tFeuer!\n",
            "Help!\tHilfe!\n",
            "Help!\tZu Hülf!\n",
            "Stop!\tStopp!\n",
            "Wait!\tWarte!\n"
          ],
          "name": "stdout"
        }
      ]
    },
    {
      "cell_type": "markdown",
      "metadata": {
        "id": "1UA_LkfdIDco",
        "colab_type": "text"
      },
      "source": [
        "### Importing TensorFlow and other libraries"
      ]
    },
    {
      "cell_type": "code",
      "metadata": {
        "id": "YrUkkyKmE6_1",
        "colab_type": "code",
        "colab": {}
      },
      "source": [
        "import string\n",
        "import numpy as np\n",
        "from numpy import array\n",
        "import pandas as pd\n",
        "import tensorflow as tf\n",
        "from tensorflow.keras.models import Sequential, load_model\n",
        "from tensorflow.keras.layers import Dense, Embedding, RepeatVector, LSTM\n",
        "from tensorflow.keras.optimizers import RMSprop\n",
        "from tensorflow.keras.preprocessing.text import Tokenizer\n",
        "from tensorflow.keras.preprocessing.sequence import pad_sequences\n",
        "from sklearn.model_selection import train_test_split\n",
        "import matplotlib.pyplot as plt"
      ],
      "execution_count": 0,
      "outputs": []
    },
    {
      "cell_type": "markdown",
      "metadata": {
        "id": "UZfpxwubIc5R",
        "colab_type": "text"
      },
      "source": [
        "### Extracting lines from dataset and into array\n",
        "\n",
        "Here, we can examine how the dataset is structures. The English-German dataset comprises of an English and German phrase separted by a tab `\\t`"
      ]
    },
    {
      "cell_type": "code",
      "metadata": {
        "id": "jVuZy_JTF8Oo",
        "colab_type": "code",
        "outputId": "055113da-e5a9-49d9-9d3b-8a169204f119",
        "colab": {
          "base_uri": "https://localhost:8080/",
          "height": 102
        }
      },
      "source": [
        "deu_eng = open('./deu.txt', mode='rt', encoding='utf-8')\n",
        "deu_eng = deu_eng.read()\n",
        "deu_eng = deu_eng.strip().split('\\n')\n",
        "deu_eng = [i.split('\\t') for i in deu_eng]\n",
        "deu_eng = array(deu_eng)\n",
        "deu_eng = deu_eng[:50000, :]\n",
        "print (deu_eng[:5])"
      ],
      "execution_count": 6,
      "outputs": [
        {
          "output_type": "stream",
          "text": [
            "[['Hi.' 'Hallo!']\n",
            " ['Hi.' 'Grüß Gott!']\n",
            " ['Run!' 'Lauf!']\n",
            " ['Wow!' 'Potzdonner!']\n",
            " ['Wow!' 'Donnerwetter!']]\n"
          ],
          "name": "stdout"
        }
      ]
    },
    {
      "cell_type": "markdown",
      "metadata": {
        "id": "7mqGMosWJIP7",
        "colab_type": "text"
      },
      "source": [
        "### Removing punctuation\n",
        "\n",
        "We will be removing punctuation from the phrases and converting them to lowercase. We will not be creating embeddings for punctuations or uppercase characters as it adds to the complexity of the NMT model"
      ]
    },
    {
      "cell_type": "code",
      "metadata": {
        "id": "blqRhSTmJF_A",
        "colab_type": "code",
        "outputId": "e52543c3-293f-47f4-9173-de4e286ae4ad",
        "colab": {
          "base_uri": "https://localhost:8080/",
          "height": 102
        }
      },
      "source": [
        "deu_eng[:, 0] = [s.translate((str.maketrans('', '', string.punctuation))) for s in deu_eng[:, 0]]\n",
        "deu_eng[:, 1] = [s.translate((str.maketrans('', '', string.punctuation))) for s in deu_eng[:, 1]]\n",
        "\n",
        "for i in range(len(deu_eng)):\n",
        "    deu_eng[i, 0] = deu_eng[i, 0].lower()\n",
        "    deu_eng[i, 1] = deu_eng[i, 1].lower()\n",
        "\n",
        "print (deu_eng[:5])"
      ],
      "execution_count": 7,
      "outputs": [
        {
          "output_type": "stream",
          "text": [
            "[['hi' 'hallo']\n",
            " ['hi' 'grüß gott']\n",
            " ['run' 'lauf']\n",
            " ['wow' 'potzdonner']\n",
            " ['wow' 'donnerwetter']]\n"
          ],
          "name": "stdout"
        }
      ]
    },
    {
      "cell_type": "markdown",
      "metadata": {
        "id": "vqWZWUAwJcjE",
        "colab_type": "text"
      },
      "source": [
        "### Tokenising the phrases\n",
        "\n",
        "Tokenisation is the process of taking a sequence and chopping it up into smaller pieces called `tokens`. For example, suppose we have a sentence \n",
        "\n",
        "`\"Bob returned home after the party\"`\n",
        "\n",
        "The tokenised sentence will return an array with the tokens:\n",
        "\n",
        "`[\"Bob\", \"returned\", \"home\", \"after\", \"the\", \"party\"]`\n",
        "\n",
        "In this section, we will be breaking up the phrases into tokenised sequences that comprises of numbers for each unique word. For instance, the word \"good\" may have the value of 32 while the word \"boy\" may have the value of 46. Supposing the phrase is \"good boy\", the tokenised sequence is `[32, 46]`."
      ]
    },
    {
      "cell_type": "code",
      "metadata": {
        "id": "LWlZwu6PJa9p",
        "colab_type": "code",
        "outputId": "9a3caf91-cb11-46bf-88a0-78f9f2b3b618",
        "colab": {
          "base_uri": "https://localhost:8080/",
          "height": 51
        }
      },
      "source": [
        "def tokenize(lines):\n",
        "    tokenizer = Tokenizer()\n",
        "    tokenizer.fit_on_texts(lines)\n",
        "    \n",
        "    return tokenizer\n",
        "    \n",
        "eng_tokenizer = tokenize(deu_eng[:, 0])\n",
        "eng_vocab_size = len(eng_tokenizer.word_index) + 1\n",
        "eng_sequence_length = 8\n",
        "print ('English vocabulary size: {}'.format(eng_vocab_size))\n",
        "\n",
        "deu_tokenizer = tokenize(deu_eng[:, 1])\n",
        "deu_vocab_size = len(deu_tokenizer.word_index) + 1\n",
        "deu_sequence_length = 8\n",
        "print ('German vocabulary size: {}'.format(deu_vocab_size))"
      ],
      "execution_count": 8,
      "outputs": [
        {
          "output_type": "stream",
          "text": [
            "English vocabulary size: 6352\n",
            "German vocabulary size: 10678\n"
          ],
          "name": "stdout"
        }
      ]
    },
    {
      "cell_type": "markdown",
      "metadata": {
        "id": "bv6jcJsvK0AR",
        "colab_type": "text"
      },
      "source": [
        "### Convert lines into sequences as input for the NMT model\n",
        "\n",
        "We will now be using our Tokeniser to create tokenised sequences of the original English and German phrases from our dataset."
      ]
    },
    {
      "cell_type": "code",
      "metadata": {
        "id": "fM20OwUtKs4e",
        "colab_type": "code",
        "colab": {}
      },
      "source": [
        "def encode_sequences(tokenizer, sequence_length, lines):\n",
        "    sequence = tokenizer.texts_to_sequences(lines)\n",
        "    sequence = pad_sequences(sequence, sequence_length, padding=\"post\") # 0s after the actual sequence\n",
        "    return sequence"
      ],
      "execution_count": 0,
      "outputs": []
    },
    {
      "cell_type": "markdown",
      "metadata": {
        "id": "m2kHwXOBLFEX",
        "colab_type": "text"
      },
      "source": [
        "### Splitting the dataset into training and testing sets"
      ]
    },
    {
      "cell_type": "code",
      "metadata": {
        "id": "AuGjDhZeLFqY",
        "colab_type": "code",
        "outputId": "7558b5f9-def0-4238-9909-827706dc0597",
        "colab": {
          "base_uri": "https://localhost:8080/",
          "height": 51
        }
      },
      "source": [
        "train, test = train_test_split(deu_eng, test_size=.2, random_state=12)\n",
        "\n",
        "x_train = encode_sequences(deu_tokenizer, deu_sequence_length, train[:, 1])\n",
        "y_train = encode_sequences(eng_tokenizer, eng_sequence_length, train[:, 0])\n",
        "\n",
        "x_test = encode_sequences(deu_tokenizer, deu_sequence_length, test[:, 1])\n",
        "y_test = encode_sequences(eng_tokenizer, eng_sequence_length, test[:, 0])\n",
        "\n",
        "print (x_train.shape, y_train.shape)\n",
        "print (x_test.shape, x_test.shape)"
      ],
      "execution_count": 10,
      "outputs": [
        {
          "output_type": "stream",
          "text": [
            "(40000, 8) (40000, 8)\n",
            "(10000, 8) (10000, 8)\n"
          ],
          "name": "stdout"
        }
      ]
    },
    {
      "cell_type": "markdown",
      "metadata": {
        "id": "h4nWQSW7LNTp",
        "colab_type": "text"
      },
      "source": [
        "### Training on a TPU\n",
        "\n",
        "In order to connect to a TPU, we can follow 4 easy steps:\n",
        "\n",
        "1. Connect to a TPU instance\n",
        "2. Initialise a parallelly-distributed training `strategy`\n",
        "3. Build our NMT model under the `strategy`\n",
        "4. Train the model on a TPU\n",
        "\n",
        "For more details on training on TPUs for free, feel free to check out [this](https://medium.com/@mail.rishabh.anand/tpu-training-made-easy-with-colab-3b73b920878f) article that covers the process in great detail."
      ]
    },
    {
      "cell_type": "markdown",
      "metadata": {
        "id": "6LsuPl6MXGdd",
        "colab_type": "text"
      },
      "source": [
        "### Connecting to available TPU instances\n",
        "\n",
        "Here, we search for available instances of version 2 TPUs (the ones Google publically allocates)"
      ]
    },
    {
      "cell_type": "code",
      "metadata": {
        "id": "mkwlNRk1LLkz",
        "colab_type": "code",
        "colab": {}
      },
      "source": [
        "tpu = tf.distribute.cluster_resolver.TPUClusterResolver() # TPU detection"
      ],
      "execution_count": 0,
      "outputs": []
    },
    {
      "cell_type": "code",
      "metadata": {
        "id": "a5WySFFxL391",
        "colab_type": "code",
        "outputId": "88826151-0c6e-4c06-adff-b655f6304736",
        "colab": {
          "base_uri": "https://localhost:8080/",
          "height": 377
        }
      },
      "source": [
        "# Initialising a parallelly-distributed training strategy\n",
        "tf.tpu.experimental.initialize_tpu_system(tpu)\n",
        "strategy = tf.distribute.experimental.TPUStrategy(tpu, steps_per_run=128)\n",
        "\n",
        "print('Running on TPU ', tpu.cluster_spec().as_dict()['worker'])  \n",
        "print(\"Number of accelerators: \", strategy.num_replicas_in_sync)"
      ],
      "execution_count": 12,
      "outputs": [
        {
          "output_type": "stream",
          "text": [
            "INFO:tensorflow:Initializing the TPU system: 10.26.217.42:8470\n",
            "INFO:tensorflow:Finished initializing TPU system.\n",
            "INFO:tensorflow:Querying Tensorflow master (grpc://10.26.217.42:8470) for TPU system metadata.\n",
            "INFO:tensorflow:Found TPU system:\n",
            "INFO:tensorflow:*** Num TPU Cores: 8\n",
            "INFO:tensorflow:*** Num TPU Workers: 1\n",
            "INFO:tensorflow:*** Num TPU Cores Per Worker: 8\n",
            "INFO:tensorflow:*** Available Device: _DeviceAttributes(/job:worker/replica:0/task:0/device:CPU:0, CPU, -1, 14268563836271018040)\n",
            "INFO:tensorflow:*** Available Device: _DeviceAttributes(/job:worker/replica:0/task:0/device:TPU:0, TPU, 17179869184, 4160020754025681679)\n",
            "INFO:tensorflow:*** Available Device: _DeviceAttributes(/job:worker/replica:0/task:0/device:TPU:1, TPU, 17179869184, 5069956673944937267)\n",
            "INFO:tensorflow:*** Available Device: _DeviceAttributes(/job:worker/replica:0/task:0/device:TPU:2, TPU, 17179869184, 405365701528337000)\n",
            "INFO:tensorflow:*** Available Device: _DeviceAttributes(/job:worker/replica:0/task:0/device:TPU:3, TPU, 17179869184, 18388619540662958942)\n",
            "INFO:tensorflow:*** Available Device: _DeviceAttributes(/job:worker/replica:0/task:0/device:TPU:4, TPU, 17179869184, 12649830111410000825)\n",
            "INFO:tensorflow:*** Available Device: _DeviceAttributes(/job:worker/replica:0/task:0/device:TPU:5, TPU, 17179869184, 12145800610552195669)\n",
            "INFO:tensorflow:*** Available Device: _DeviceAttributes(/job:worker/replica:0/task:0/device:TPU:6, TPU, 17179869184, 2481206146790027268)\n",
            "INFO:tensorflow:*** Available Device: _DeviceAttributes(/job:worker/replica:0/task:0/device:TPU:7, TPU, 17179869184, 5555612138287615961)\n",
            "INFO:tensorflow:*** Available Device: _DeviceAttributes(/job:worker/replica:0/task:0/device:TPU_SYSTEM:0, TPU_SYSTEM, 8589934592, 14651440226793660407)\n",
            "INFO:tensorflow:*** Available Device: _DeviceAttributes(/job:worker/replica:0/task:0/device:XLA_CPU:0, XLA_CPU, 17179869184, 8636738863316355082)\n",
            "Running on TPU  ['10.26.217.42:8470']\n",
            "Number of accelerators:  8\n"
          ],
          "name": "stdout"
        }
      ]
    },
    {
      "cell_type": "code",
      "metadata": {
        "id": "pwSP8GeTMCp-",
        "colab_type": "code",
        "outputId": "35141038-9471-40d9-a8a6-e767262979a2",
        "colab": {
          "base_uri": "https://localhost:8080/",
          "height": 496
        }
      },
      "source": [
        "# Building our model under that strategy\n",
        "\n",
        "in_vocab = deu_vocab_size\n",
        "out_vocab = eng_vocab_size\n",
        "units = 512\n",
        "in_timesteps = deu_sequence_length\n",
        "out_timesteps = eng_sequence_length\n",
        "\n",
        "with strategy.scope():\n",
        "    model = Sequential()\n",
        "    model.add(Embedding(in_vocab, units, input_length=in_timesteps, mask_zero=True))\n",
        "    model.add(LSTM(units))\n",
        "    model.add(RepeatVector(out_timesteps))\n",
        "    model.add(LSTM(units, return_sequences=True))\n",
        "    model.add(Dense(out_vocab, activation='softmax'))\n",
        "\n",
        "    rms = RMSprop(lr=0.001)\n",
        "    model.compile(loss='sparse_categorical_crossentropy', optimizer=rms)\n",
        "\n",
        "    model.summary()"
      ],
      "execution_count": 13,
      "outputs": [
        {
          "output_type": "stream",
          "text": [
            "WARNING:tensorflow:From /usr/local/lib/python3.6/dist-packages/tensorflow_core/python/keras/initializers.py:119: calling RandomUniform.__init__ (from tensorflow.python.ops.init_ops) with dtype is deprecated and will be removed in a future version.\n",
            "Instructions for updating:\n",
            "Call initializer instance with the dtype argument instead of passing it to the constructor\n",
            "WARNING:tensorflow:From /usr/local/lib/python3.6/dist-packages/tensorflow_core/python/ops/resource_variable_ops.py:1630: calling BaseResourceVariable.__init__ (from tensorflow.python.ops.resource_variable_ops) with constraint is deprecated and will be removed in a future version.\n",
            "Instructions for updating:\n",
            "If using Keras pass *_constraint arguments to layers.\n",
            "WARNING:tensorflow:From /usr/local/lib/python3.6/dist-packages/tensorflow_core/python/keras/backend.py:3994: where (from tensorflow.python.ops.array_ops) is deprecated and will be removed in a future version.\n",
            "Instructions for updating:\n",
            "Use tf.where in 2.0, which has the same broadcast rule as np.where\n",
            "Model: \"sequential\"\n",
            "_________________________________________________________________\n",
            "Layer (type)                 Output Shape              Param #   \n",
            "=================================================================\n",
            "embedding (Embedding)        (None, 8, 512)            5467136   \n",
            "_________________________________________________________________\n",
            "lstm (LSTM)                  (None, 512)               2099200   \n",
            "_________________________________________________________________\n",
            "repeat_vector (RepeatVector) (None, 8, 512)            0         \n",
            "_________________________________________________________________\n",
            "lstm_1 (LSTM)                (None, 8, 512)            2099200   \n",
            "_________________________________________________________________\n",
            "dense (Dense)                (None, 8, 6352)           3258576   \n",
            "=================================================================\n",
            "Total params: 12,924,112\n",
            "Trainable params: 12,924,112\n",
            "Non-trainable params: 0\n",
            "_________________________________________________________________\n"
          ],
          "name": "stdout"
        }
      ]
    },
    {
      "cell_type": "code",
      "metadata": {
        "id": "WIsRPS3eYRWE",
        "colab_type": "code",
        "colab": {
          "base_uri": "https://localhost:8080/",
          "height": 644
        },
        "outputId": "86139469-072d-4d4a-f4df-06893603b002"
      },
      "source": [
        "tf.keras.utils.plot_model(\n",
        "    model,\n",
        "    show_shapes=True,\n",
        "    show_layer_names=True,\n",
        "    rankdir=\"TB\"\n",
        ")"
      ],
      "execution_count": 17,
      "outputs": [
        {
          "output_type": "execute_result",
          "data": {
            "image/png": "[encoded data removed]",
            "text/plain": [
              "<IPython.core.display.Image object>"
            ]
          },
          "metadata": {
            "tags": []
          },
          "execution_count": 17
        }
      ]
    },
    {
      "cell_type": "code",
      "metadata": {
        "id": "B33H_fwvMn6f",
        "colab_type": "code",
        "outputId": "05667b8b-11e2-4202-b83e-53293d276763",
        "colab": {
          "base_uri": "https://localhost:8080/",
          "height": 1000
        }
      },
      "source": [
        "history = model.fit(x_train, y_train.reshape(y_train.shape[0], y_train.shape[1], 1), epochs=30, steps_per_epoch=500)"
      ],
      "execution_count": 14,
      "outputs": [
        {
          "output_type": "stream",
          "text": [
            "Epoch 1/30\n",
            "500/500 [==============================] - 12s 23ms/step - loss: 2.2086\n",
            "Epoch 2/30\n",
            "500/500 [==============================] - 7s 15ms/step - loss: 1.7406\n",
            "Epoch 3/30\n",
            "500/500 [==============================] - 8s 15ms/step - loss: 1.5482\n",
            "Epoch 4/30\n",
            "500/500 [==============================] - 8s 16ms/step - loss: 1.2944\n",
            "Epoch 5/30\n",
            "500/500 [==============================] - 8s 16ms/step - loss: 1.1328\n",
            "Epoch 6/30\n",
            "500/500 [==============================] - 8s 17ms/step - loss: 0.9843\n",
            "Epoch 7/30\n",
            "500/500 [==============================] - 9s 17ms/step - loss: 0.8681\n",
            "Epoch 8/30\n",
            "500/500 [==============================] - 9s 17ms/step - loss: 0.7995\n",
            "Epoch 9/30\n",
            "500/500 [==============================] - 9s 18ms/step - loss: 0.6747\n",
            "Epoch 10/30\n",
            "500/500 [==============================] - 9s 19ms/step - loss: 0.6119\n",
            "Epoch 11/30\n",
            "500/500 [==============================] - 10s 19ms/step - loss: 0.5652\n",
            "Epoch 12/30\n",
            "500/500 [==============================] - 10s 19ms/step - loss: 0.4462\n",
            "Epoch 13/30\n",
            "500/500 [==============================] - 10s 20ms/step - loss: 0.4422\n",
            "Epoch 14/30\n",
            "500/500 [==============================] - 10s 20ms/step - loss: 0.3768\n",
            "Epoch 15/30\n",
            "500/500 [==============================] - 10s 21ms/step - loss: 0.3660\n",
            "Epoch 16/30\n",
            "500/500 [==============================] - 10s 21ms/step - loss: 0.3685\n",
            "Epoch 17/30\n",
            "500/500 [==============================] - 11s 22ms/step - loss: 0.2964\n",
            "Epoch 18/30\n",
            "500/500 [==============================] - 11s 22ms/step - loss: 0.2531\n",
            "Epoch 19/30\n",
            "500/500 [==============================] - 11s 22ms/step - loss: 0.2844\n",
            "Epoch 20/30\n",
            "500/500 [==============================] - 12s 23ms/step - loss: 0.2386\n",
            "Epoch 21/30\n",
            "500/500 [==============================] - 11s 23ms/step - loss: 0.2292\n",
            "Epoch 22/30\n",
            "500/500 [==============================] - 12s 23ms/step - loss: 0.2215\n",
            "Epoch 23/30\n",
            "500/500 [==============================] - 12s 24ms/step - loss: 0.1749\n",
            "Epoch 24/30\n",
            "500/500 [==============================] - 12s 24ms/step - loss: 0.1745\n",
            "Epoch 25/30\n",
            "500/500 [==============================] - 12s 25ms/step - loss: 0.1726\n",
            "Epoch 26/30\n",
            "500/500 [==============================] - 13s 25ms/step - loss: 0.1428\n",
            "Epoch 27/30\n",
            "500/500 [==============================] - 13s 26ms/step - loss: 0.1585\n",
            "Epoch 28/30\n",
            "500/500 [==============================] - 13s 26ms/step - loss: 0.1811\n",
            "Epoch 29/30\n",
            "500/500 [==============================] - 14s 27ms/step - loss: 0.1676\n",
            "Epoch 30/30\n",
            "500/500 [==============================] - 14s 29ms/step - loss: 0.1636\n"
          ],
          "name": "stdout"
        }
      ]
    },
    {
      "cell_type": "markdown",
      "metadata": {
        "id": "Y4YwTfTROVv4",
        "colab_type": "text"
      },
      "source": [
        "### Checking the loss values"
      ]
    },
    {
      "cell_type": "code",
      "metadata": {
        "id": "2S6V9YHoOLk5",
        "colab_type": "code",
        "outputId": "04dd99e7-cad1-40f3-e2da-b96a9e1fecd4",
        "colab": {
          "base_uri": "https://localhost:8080/",
          "height": 283
        }
      },
      "source": [
        "plt.plot(history.history['loss'])\n",
        "plt.xlabel('Epochs')\n",
        "plt.ylabel('Sparse Categorical Loss')\n",
        "plt.legend(['train'])\n",
        "plt.show()"
      ],
      "execution_count": 15,
      "outputs": [
        {
          "output_type": "display_data",
          "data": {
            "image/png": "[encoded data removed]",
            "text/plain": [
              "<Figure size 432x288 with 1 Axes>"
            ]
          },
          "metadata": {
            "tags": []
          }
        }
      ]
    },
    {
      "cell_type": "markdown",
      "metadata": {
        "id": "LiqzrayKOYoW",
        "colab_type": "text"
      },
      "source": [
        "### Running our model on testing dataset"
      ]
    },
    {
      "cell_type": "code",
      "metadata": {
        "id": "iIJ5J5w0O25p",
        "colab_type": "code",
        "outputId": "fb4132ca-b867-4ec6-e696-703bfdf386d5",
        "colab": {
          "base_uri": "https://localhost:8080/",
          "height": 187
        }
      },
      "source": [
        "# Getting the predictions from the testing dataset\n",
        "preds = model.predict_classes(x_test.reshape(x_test.shape[0], x_test.shape[1])[:10]) # only predicting over 10 instances\n",
        "print (preds)"
      ],
      "execution_count": 30,
      "outputs": [
        {
          "output_type": "stream",
          "text": [
            "[[  10  305    7   28  277    0    0    0]\n",
            " [   2   80    1    0    0    0    0    0]\n",
            " [  87   67   70    0    0    0    0    0]\n",
            " [   2   80   16  239    0    0    0    0]\n",
            " [  47   16 1456    0    0    0    0    0]\n",
            " [ 856    1    1    0    0    0    0    0]\n",
            " [  55    4   26   91 1027    0    0    0]\n",
            " [  37  244   16   16  166    0    0    0]\n",
            " [  22    1  391    0    0    0    0    0]\n",
            " [  90   11  228  129   11    0    0    0]]\n"
          ],
          "name": "stdout"
        }
      ]
    },
    {
      "cell_type": "code",
      "metadata": {
        "id": "fRiYw1miOo47",
        "colab_type": "code",
        "colab": {}
      },
      "source": [
        "# A function to convert a sequence back into words\n",
        "def convert_words(n, tokenizer):\n",
        "    for word, idx in tokenizer.word_index.items():\n",
        "        if idx == n:\n",
        "            return word\n",
        "    return None"
      ],
      "execution_count": 0,
      "outputs": []
    },
    {
      "cell_type": "code",
      "metadata": {
        "id": "tvW2uwKNOttE",
        "colab_type": "code",
        "colab": {}
      },
      "source": [
        "# Running our model on the testing dataset\n",
        "pred_texts = []\n",
        "for i in preds:\n",
        "    temp = []\n",
        "    for j in range(len(i)):\n",
        "        word = convert_words(i[j], eng_tokenizer)\n",
        "        if j > 0:\n",
        "            if (word == convert_words(i[j-1], eng_tokenizer)) or (word == None):\n",
        "                temp.append('')\n",
        "            else:\n",
        "                temp.append(word)\n",
        "        else:\n",
        "            if (word == None):\n",
        "                temp.append('')\n",
        "            else:\n",
        "                temp.append(word)\n",
        "                \n",
        "    pred_texts.append(' '.join(temp))    "
      ],
      "execution_count": 0,
      "outputs": []
    },
    {
      "cell_type": "markdown",
      "metadata": {
        "id": "O84isVRVgTEG",
        "colab_type": "text"
      },
      "source": [
        "### Translating the text from German to English\n",
        "\n",
        "We can see that our model does a relatively good job in translating the German text to English. However, there are instances that seem to have the wrong translation or are outright incorrect. Nonetheless, for a basic NMT model that was trained for 30 epochs, the model's generalisation is great."
      ]
    },
    {
      "cell_type": "code",
      "metadata": {
        "id": "z-lVxIZ19Zh-",
        "colab_type": "code",
        "outputId": "fe21b326-434e-4c67-ca28-9b1c411f9ccb",
        "colab": {
          "base_uri": "https://localhost:8080/",
          "height": 359
        }
      },
      "source": [
        "pred_df = pd.DataFrame({'actual': test[:10, 0], 'prediction': pred_texts})\n",
        "\n",
        "pred_df"
      ],
      "execution_count": 32,
      "outputs": [
        {
          "output_type": "execute_result",
          "data": {
            "text/html": [
              "<div>\n",
              "<style scoped>\n",
              "    .dataframe tbody tr th:only-of-type {\n",
              "        vertical-align: middle;\n",
              "    }\n",
              "\n",
              "    .dataframe tbody tr th {\n",
              "        vertical-align: top;\n",
              "    }\n",
              "\n",
              "    .dataframe thead th {\n",
              "        text-align: right;\n",
              "    }\n",
              "</style>\n",
              "<table border=\"1\" class=\"dataframe\">\n",
              "  <thead>\n",
              "    <tr style=\"text-align: right;\">\n",
              "      <th></th>\n",
              "      <th>actual</th>\n",
              "      <th>prediction</th>\n",
              "    </tr>\n",
              "  </thead>\n",
              "  <tbody>\n",
              "    <tr>\n",
              "      <th>0</th>\n",
              "      <td>he wanted to be rich</td>\n",
              "      <td>he wanted to be rich</td>\n",
              "    </tr>\n",
              "    <tr>\n",
              "      <th>1</th>\n",
              "      <td>i love tom</td>\n",
              "      <td>i love tom</td>\n",
              "    </tr>\n",
              "    <tr>\n",
              "      <th>2</th>\n",
              "      <td>let us go home</td>\n",
              "      <td>lets us home</td>\n",
              "    </tr>\n",
              "    <tr>\n",
              "      <th>3</th>\n",
              "      <td>i love driving</td>\n",
              "      <td>i love my life</td>\n",
              "    </tr>\n",
              "    <tr>\n",
              "      <th>4</th>\n",
              "      <td>this is my dictionary</td>\n",
              "      <td>thats my dictionary</td>\n",
              "    </tr>\n",
              "    <tr>\n",
              "      <th>5</th>\n",
              "      <td>hi tom good morning</td>\n",
              "      <td>hi tom</td>\n",
              "    </tr>\n",
              "    <tr>\n",
              "      <th>6</th>\n",
              "      <td>why is she so popular</td>\n",
              "      <td>why is she so popular</td>\n",
              "    </tr>\n",
              "    <tr>\n",
              "      <th>7</th>\n",
              "      <td>ill show you my room</td>\n",
              "      <td>ill show my  room</td>\n",
              "    </tr>\n",
              "    <tr>\n",
              "      <th>8</th>\n",
              "      <td>did tom oversleep</td>\n",
              "      <td>did tom die</td>\n",
              "    </tr>\n",
              "    <tr>\n",
              "      <th>9</th>\n",
              "      <td>keep up the good work</td>\n",
              "      <td>give do fast eat do</td>\n",
              "    </tr>\n",
              "  </tbody>\n",
              "</table>\n",
              "</div>"
            ],
            "text/plain": [
              "                  actual                prediction\n",
              "0   he wanted to be rich   he wanted to be rich   \n",
              "1             i love tom           i love tom     \n",
              "2         let us go home         lets us home     \n",
              "3         i love driving        i love my life    \n",
              "4  this is my dictionary  thats my dictionary     \n",
              "5    hi tom good morning              hi tom      \n",
              "6  why is she so popular  why is she so popular   \n",
              "7   ill show you my room      ill show my  room   \n",
              "8      did tom oversleep          did tom die     \n",
              "9  keep up the good work    give do fast eat do   "
            ]
          },
          "metadata": {
            "tags": []
          },
          "execution_count": 32
        }
      ]
    }
  ]
}